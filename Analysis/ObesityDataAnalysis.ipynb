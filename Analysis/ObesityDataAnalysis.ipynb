{
 "cells": [
  {
   "cell_type": "code",
   "id": "initial_id",
   "metadata": {
    "collapsed": true,
    "ExecuteTime": {
     "end_time": "2024-12-06T15:49:34.929598Z",
     "start_time": "2024-12-06T15:49:34.924855Z"
    }
   },
   "source": [
    "import matplotlib.pyplot as plt\n",
    "import numpy as np\n",
    "from sklearn import datasets \n",
    "import pandas as pd"
   ],
   "outputs": [],
   "execution_count": 42
  },
  {
   "metadata": {
    "ExecuteTime": {
     "end_time": "2024-12-06T16:31:21.971866Z",
     "start_time": "2024-12-06T16:31:21.942050Z"
    }
   },
   "cell_type": "code",
   "source": [
    "obesity_dataset = pd.read_csv('../DataSource/ObesityDataSet_raw_and_data_sinthetic.csv')\n",
    "print(obesity_dataset)"
   ],
   "id": "902ba8b22a9ac9fa",
   "outputs": [
    {
     "name": "stdout",
     "output_type": "stream",
     "text": [
      "      Gender        Age    Height      Weight family_history_with_overweight  \\\n",
      "0     Female  21.000000  1.620000   64.000000                            yes   \n",
      "1     Female  21.000000  1.520000   56.000000                            yes   \n",
      "2       Male  23.000000  1.800000   77.000000                            yes   \n",
      "3       Male  27.000000  1.800000   87.000000                             no   \n",
      "4       Male  22.000000  1.780000   89.800000                             no   \n",
      "...      ...        ...       ...         ...                            ...   \n",
      "2106  Female  20.976842  1.710730  131.408528                            yes   \n",
      "2107  Female  21.982942  1.748584  133.742943                            yes   \n",
      "2108  Female  22.524036  1.752206  133.689352                            yes   \n",
      "2109  Female  24.361936  1.739450  133.346641                            yes   \n",
      "2110  Female  23.664709  1.738836  133.472641                            yes   \n",
      "\n",
      "     FAVC  FCVC  NCP       CAEC SMOKE      CH2O  SCC       FAF       TUE  \\\n",
      "0      no   2.0  3.0  Sometimes    no  2.000000   no  0.000000  1.000000   \n",
      "1      no   3.0  3.0  Sometimes   yes  3.000000  yes  3.000000  0.000000   \n",
      "2      no   2.0  3.0  Sometimes    no  2.000000   no  2.000000  1.000000   \n",
      "3      no   3.0  3.0  Sometimes    no  2.000000   no  2.000000  0.000000   \n",
      "4      no   2.0  1.0  Sometimes    no  2.000000   no  0.000000  0.000000   \n",
      "...   ...   ...  ...        ...   ...       ...  ...       ...       ...   \n",
      "2106  yes   3.0  3.0  Sometimes    no  1.728139   no  1.676269  0.906247   \n",
      "2107  yes   3.0  3.0  Sometimes    no  2.005130   no  1.341390  0.599270   \n",
      "2108  yes   3.0  3.0  Sometimes    no  2.054193   no  1.414209  0.646288   \n",
      "2109  yes   3.0  3.0  Sometimes    no  2.852339   no  1.139107  0.586035   \n",
      "2110  yes   3.0  3.0  Sometimes    no  2.863513   no  1.026452  0.714137   \n",
      "\n",
      "            CALC                 MTRANS           NObeyesdad  \n",
      "0             no  Public_Transportation        Normal_Weight  \n",
      "1      Sometimes  Public_Transportation        Normal_Weight  \n",
      "2     Frequently  Public_Transportation        Normal_Weight  \n",
      "3     Frequently                Walking   Overweight_Level_I  \n",
      "4      Sometimes  Public_Transportation  Overweight_Level_II  \n",
      "...          ...                    ...                  ...  \n",
      "2106   Sometimes  Public_Transportation     Obesity_Type_III  \n",
      "2107   Sometimes  Public_Transportation     Obesity_Type_III  \n",
      "2108   Sometimes  Public_Transportation     Obesity_Type_III  \n",
      "2109   Sometimes  Public_Transportation     Obesity_Type_III  \n",
      "2110   Sometimes  Public_Transportation     Obesity_Type_III  \n",
      "\n",
      "[2111 rows x 17 columns]\n"
     ]
    }
   ],
   "execution_count": 63
  },
  {
   "metadata": {
    "ExecuteTime": {
     "end_time": "2024-12-06T16:31:24.693799Z",
     "start_time": "2024-12-06T16:31:24.658552Z"
    }
   },
   "cell_type": "code",
   "source": "obesity_dataset.head(10)",
   "id": "26f5efc17150e83c",
   "outputs": [
    {
     "data": {
      "text/plain": [
       "   Gender   Age  Height  Weight family_history_with_overweight FAVC  FCVC  \\\n",
       "0  Female  21.0    1.62    64.0                            yes   no   2.0   \n",
       "1  Female  21.0    1.52    56.0                            yes   no   3.0   \n",
       "2    Male  23.0    1.80    77.0                            yes   no   2.0   \n",
       "3    Male  27.0    1.80    87.0                             no   no   3.0   \n",
       "4    Male  22.0    1.78    89.8                             no   no   2.0   \n",
       "5    Male  29.0    1.62    53.0                             no  yes   2.0   \n",
       "6  Female  23.0    1.50    55.0                            yes  yes   3.0   \n",
       "7    Male  22.0    1.64    53.0                             no   no   2.0   \n",
       "8    Male  24.0    1.78    64.0                            yes  yes   3.0   \n",
       "9    Male  22.0    1.72    68.0                            yes  yes   2.0   \n",
       "\n",
       "   NCP       CAEC SMOKE  CH2O  SCC  FAF  TUE        CALC  \\\n",
       "0  3.0  Sometimes    no   2.0   no  0.0  1.0          no   \n",
       "1  3.0  Sometimes   yes   3.0  yes  3.0  0.0   Sometimes   \n",
       "2  3.0  Sometimes    no   2.0   no  2.0  1.0  Frequently   \n",
       "3  3.0  Sometimes    no   2.0   no  2.0  0.0  Frequently   \n",
       "4  1.0  Sometimes    no   2.0   no  0.0  0.0   Sometimes   \n",
       "5  3.0  Sometimes    no   2.0   no  0.0  0.0   Sometimes   \n",
       "6  3.0  Sometimes    no   2.0   no  1.0  0.0   Sometimes   \n",
       "7  3.0  Sometimes    no   2.0   no  3.0  0.0   Sometimes   \n",
       "8  3.0  Sometimes    no   2.0   no  1.0  1.0  Frequently   \n",
       "9  3.0  Sometimes    no   2.0   no  1.0  1.0          no   \n",
       "\n",
       "                  MTRANS           NObeyesdad  \n",
       "0  Public_Transportation        Normal_Weight  \n",
       "1  Public_Transportation        Normal_Weight  \n",
       "2  Public_Transportation        Normal_Weight  \n",
       "3                Walking   Overweight_Level_I  \n",
       "4  Public_Transportation  Overweight_Level_II  \n",
       "5             Automobile        Normal_Weight  \n",
       "6              Motorbike        Normal_Weight  \n",
       "7  Public_Transportation        Normal_Weight  \n",
       "8  Public_Transportation        Normal_Weight  \n",
       "9  Public_Transportation        Normal_Weight  "
      ],
      "text/html": [
       "<div>\n",
       "<style scoped>\n",
       "    .dataframe tbody tr th:only-of-type {\n",
       "        vertical-align: middle;\n",
       "    }\n",
       "\n",
       "    .dataframe tbody tr th {\n",
       "        vertical-align: top;\n",
       "    }\n",
       "\n",
       "    .dataframe thead th {\n",
       "        text-align: right;\n",
       "    }\n",
       "</style>\n",
       "<table border=\"1\" class=\"dataframe\">\n",
       "  <thead>\n",
       "    <tr style=\"text-align: right;\">\n",
       "      <th></th>\n",
       "      <th>Gender</th>\n",
       "      <th>Age</th>\n",
       "      <th>Height</th>\n",
       "      <th>Weight</th>\n",
       "      <th>family_history_with_overweight</th>\n",
       "      <th>FAVC</th>\n",
       "      <th>FCVC</th>\n",
       "      <th>NCP</th>\n",
       "      <th>CAEC</th>\n",
       "      <th>SMOKE</th>\n",
       "      <th>CH2O</th>\n",
       "      <th>SCC</th>\n",
       "      <th>FAF</th>\n",
       "      <th>TUE</th>\n",
       "      <th>CALC</th>\n",
       "      <th>MTRANS</th>\n",
       "      <th>NObeyesdad</th>\n",
       "    </tr>\n",
       "  </thead>\n",
       "  <tbody>\n",
       "    <tr>\n",
       "      <th>0</th>\n",
       "      <td>Female</td>\n",
       "      <td>21.0</td>\n",
       "      <td>1.62</td>\n",
       "      <td>64.0</td>\n",
       "      <td>yes</td>\n",
       "      <td>no</td>\n",
       "      <td>2.0</td>\n",
       "      <td>3.0</td>\n",
       "      <td>Sometimes</td>\n",
       "      <td>no</td>\n",
       "      <td>2.0</td>\n",
       "      <td>no</td>\n",
       "      <td>0.0</td>\n",
       "      <td>1.0</td>\n",
       "      <td>no</td>\n",
       "      <td>Public_Transportation</td>\n",
       "      <td>Normal_Weight</td>\n",
       "    </tr>\n",
       "    <tr>\n",
       "      <th>1</th>\n",
       "      <td>Female</td>\n",
       "      <td>21.0</td>\n",
       "      <td>1.52</td>\n",
       "      <td>56.0</td>\n",
       "      <td>yes</td>\n",
       "      <td>no</td>\n",
       "      <td>3.0</td>\n",
       "      <td>3.0</td>\n",
       "      <td>Sometimes</td>\n",
       "      <td>yes</td>\n",
       "      <td>3.0</td>\n",
       "      <td>yes</td>\n",
       "      <td>3.0</td>\n",
       "      <td>0.0</td>\n",
       "      <td>Sometimes</td>\n",
       "      <td>Public_Transportation</td>\n",
       "      <td>Normal_Weight</td>\n",
       "    </tr>\n",
       "    <tr>\n",
       "      <th>2</th>\n",
       "      <td>Male</td>\n",
       "      <td>23.0</td>\n",
       "      <td>1.80</td>\n",
       "      <td>77.0</td>\n",
       "      <td>yes</td>\n",
       "      <td>no</td>\n",
       "      <td>2.0</td>\n",
       "      <td>3.0</td>\n",
       "      <td>Sometimes</td>\n",
       "      <td>no</td>\n",
       "      <td>2.0</td>\n",
       "      <td>no</td>\n",
       "      <td>2.0</td>\n",
       "      <td>1.0</td>\n",
       "      <td>Frequently</td>\n",
       "      <td>Public_Transportation</td>\n",
       "      <td>Normal_Weight</td>\n",
       "    </tr>\n",
       "    <tr>\n",
       "      <th>3</th>\n",
       "      <td>Male</td>\n",
       "      <td>27.0</td>\n",
       "      <td>1.80</td>\n",
       "      <td>87.0</td>\n",
       "      <td>no</td>\n",
       "      <td>no</td>\n",
       "      <td>3.0</td>\n",
       "      <td>3.0</td>\n",
       "      <td>Sometimes</td>\n",
       "      <td>no</td>\n",
       "      <td>2.0</td>\n",
       "      <td>no</td>\n",
       "      <td>2.0</td>\n",
       "      <td>0.0</td>\n",
       "      <td>Frequently</td>\n",
       "      <td>Walking</td>\n",
       "      <td>Overweight_Level_I</td>\n",
       "    </tr>\n",
       "    <tr>\n",
       "      <th>4</th>\n",
       "      <td>Male</td>\n",
       "      <td>22.0</td>\n",
       "      <td>1.78</td>\n",
       "      <td>89.8</td>\n",
       "      <td>no</td>\n",
       "      <td>no</td>\n",
       "      <td>2.0</td>\n",
       "      <td>1.0</td>\n",
       "      <td>Sometimes</td>\n",
       "      <td>no</td>\n",
       "      <td>2.0</td>\n",
       "      <td>no</td>\n",
       "      <td>0.0</td>\n",
       "      <td>0.0</td>\n",
       "      <td>Sometimes</td>\n",
       "      <td>Public_Transportation</td>\n",
       "      <td>Overweight_Level_II</td>\n",
       "    </tr>\n",
       "    <tr>\n",
       "      <th>5</th>\n",
       "      <td>Male</td>\n",
       "      <td>29.0</td>\n",
       "      <td>1.62</td>\n",
       "      <td>53.0</td>\n",
       "      <td>no</td>\n",
       "      <td>yes</td>\n",
       "      <td>2.0</td>\n",
       "      <td>3.0</td>\n",
       "      <td>Sometimes</td>\n",
       "      <td>no</td>\n",
       "      <td>2.0</td>\n",
       "      <td>no</td>\n",
       "      <td>0.0</td>\n",
       "      <td>0.0</td>\n",
       "      <td>Sometimes</td>\n",
       "      <td>Automobile</td>\n",
       "      <td>Normal_Weight</td>\n",
       "    </tr>\n",
       "    <tr>\n",
       "      <th>6</th>\n",
       "      <td>Female</td>\n",
       "      <td>23.0</td>\n",
       "      <td>1.50</td>\n",
       "      <td>55.0</td>\n",
       "      <td>yes</td>\n",
       "      <td>yes</td>\n",
       "      <td>3.0</td>\n",
       "      <td>3.0</td>\n",
       "      <td>Sometimes</td>\n",
       "      <td>no</td>\n",
       "      <td>2.0</td>\n",
       "      <td>no</td>\n",
       "      <td>1.0</td>\n",
       "      <td>0.0</td>\n",
       "      <td>Sometimes</td>\n",
       "      <td>Motorbike</td>\n",
       "      <td>Normal_Weight</td>\n",
       "    </tr>\n",
       "    <tr>\n",
       "      <th>7</th>\n",
       "      <td>Male</td>\n",
       "      <td>22.0</td>\n",
       "      <td>1.64</td>\n",
       "      <td>53.0</td>\n",
       "      <td>no</td>\n",
       "      <td>no</td>\n",
       "      <td>2.0</td>\n",
       "      <td>3.0</td>\n",
       "      <td>Sometimes</td>\n",
       "      <td>no</td>\n",
       "      <td>2.0</td>\n",
       "      <td>no</td>\n",
       "      <td>3.0</td>\n",
       "      <td>0.0</td>\n",
       "      <td>Sometimes</td>\n",
       "      <td>Public_Transportation</td>\n",
       "      <td>Normal_Weight</td>\n",
       "    </tr>\n",
       "    <tr>\n",
       "      <th>8</th>\n",
       "      <td>Male</td>\n",
       "      <td>24.0</td>\n",
       "      <td>1.78</td>\n",
       "      <td>64.0</td>\n",
       "      <td>yes</td>\n",
       "      <td>yes</td>\n",
       "      <td>3.0</td>\n",
       "      <td>3.0</td>\n",
       "      <td>Sometimes</td>\n",
       "      <td>no</td>\n",
       "      <td>2.0</td>\n",
       "      <td>no</td>\n",
       "      <td>1.0</td>\n",
       "      <td>1.0</td>\n",
       "      <td>Frequently</td>\n",
       "      <td>Public_Transportation</td>\n",
       "      <td>Normal_Weight</td>\n",
       "    </tr>\n",
       "    <tr>\n",
       "      <th>9</th>\n",
       "      <td>Male</td>\n",
       "      <td>22.0</td>\n",
       "      <td>1.72</td>\n",
       "      <td>68.0</td>\n",
       "      <td>yes</td>\n",
       "      <td>yes</td>\n",
       "      <td>2.0</td>\n",
       "      <td>3.0</td>\n",
       "      <td>Sometimes</td>\n",
       "      <td>no</td>\n",
       "      <td>2.0</td>\n",
       "      <td>no</td>\n",
       "      <td>1.0</td>\n",
       "      <td>1.0</td>\n",
       "      <td>no</td>\n",
       "      <td>Public_Transportation</td>\n",
       "      <td>Normal_Weight</td>\n",
       "    </tr>\n",
       "  </tbody>\n",
       "</table>\n",
       "</div>"
      ]
     },
     "execution_count": 64,
     "metadata": {},
     "output_type": "execute_result"
    }
   ],
   "execution_count": 64
  },
  {
   "metadata": {
    "ExecuteTime": {
     "end_time": "2024-12-06T16:31:27.993963Z",
     "start_time": "2024-12-06T16:31:27.978922Z"
    }
   },
   "cell_type": "code",
   "source": [
    "obesity_dataset.isnull().any()\n",
    "obesity_dataset.shape"
   ],
   "id": "c08e5441a8f7ceeb",
   "outputs": [
    {
     "data": {
      "text/plain": [
       "(2111, 17)"
      ]
     },
     "execution_count": 65,
     "metadata": {},
     "output_type": "execute_result"
    }
   ],
   "execution_count": 65
  },
  {
   "metadata": {
    "ExecuteTime": {
     "end_time": "2024-12-06T16:31:30.207007Z",
     "start_time": "2024-12-06T16:31:30.197451Z"
    }
   },
   "cell_type": "code",
   "source": [
    "obesity_dataset = obesity_dataset.drop(\"Height\", axis=1)\n",
    "obesity_dataset = obesity_dataset.drop(\"Weight\", axis=1)"
   ],
   "id": "5ae59eeb44bebc12",
   "outputs": [],
   "execution_count": 66
  },
  {
   "metadata": {
    "ExecuteTime": {
     "end_time": "2024-12-06T16:31:31.327096Z",
     "start_time": "2024-12-06T16:31:31.319295Z"
    }
   },
   "cell_type": "code",
   "source": "obesity_dataset.shape",
   "id": "76e70e78cfaa4dab",
   "outputs": [
    {
     "data": {
      "text/plain": [
       "(2111, 15)"
      ]
     },
     "execution_count": 67,
     "metadata": {},
     "output_type": "execute_result"
    }
   ],
   "execution_count": 67
  },
  {
   "metadata": {
    "ExecuteTime": {
     "end_time": "2024-12-06T16:31:33.409882Z",
     "start_time": "2024-12-06T16:31:33.404755Z"
    }
   },
   "cell_type": "code",
   "source": [
    "from sklearn import preprocessing\n",
    "from sklearn.metrics import silhouette_score\n",
    "from sklearn.cluster import KMeans"
   ],
   "id": "bd598ac451b4a304",
   "outputs": [],
   "execution_count": 68
  },
  {
   "metadata": {
    "ExecuteTime": {
     "end_time": "2024-12-06T16:31:36.937259Z",
     "start_time": "2024-12-06T16:31:36.925896Z"
    }
   },
   "cell_type": "code",
   "source": [
    "gender_label_encoder = preprocessing.LabelEncoder()\n",
    "obesity_dataset['Gender'] = gender_label_encoder.fit_transform(obesity_dataset['Gender'])\n",
    "obesity_dataset['Gender'].unique()"
   ],
   "id": "61c518ef92fd3f4a",
   "outputs": [
    {
     "data": {
      "text/plain": [
       "array([0, 1])"
      ]
     },
     "execution_count": 69,
     "metadata": {},
     "output_type": "execute_result"
    }
   ],
   "execution_count": 69
  },
  {
   "metadata": {
    "ExecuteTime": {
     "end_time": "2024-12-06T16:31:44.401248Z",
     "start_time": "2024-12-06T16:31:44.389987Z"
    }
   },
   "cell_type": "code",
   "source": [
    "mapping = {\n",
    "    'no': 0,\n",
    "    'yes': 1\n",
    "}\n",
    "obesity_dataset['family_history_with_overweight'] = obesity_dataset['family_history_with_overweight'].map(mapping)\n",
    "obesity_dataset['FAVC'] = obesity_dataset['FAVC'].map(mapping)\n",
    "obesity_dataset['SMOKE'] = obesity_dataset['SMOKE'].map(mapping)\n",
    "obesity_dataset['SCC'] = obesity_dataset['SCC'].map(mapping)"
   ],
   "id": "3954b0849341970",
   "outputs": [],
   "execution_count": 70
  },
  {
   "metadata": {
    "ExecuteTime": {
     "end_time": "2024-12-06T16:32:08.685822Z",
     "start_time": "2024-12-06T16:32:08.676790Z"
    }
   },
   "cell_type": "code",
   "source": [
    "caec_label_encoder = preprocessing.LabelEncoder()\n",
    "obesity_dataset['CAEC'] = caec_label_encoder.fit_transform(obesity_dataset['CAEC'])\n",
    "obesity_dataset['CAEC'].unique()"
   ],
   "id": "f10dd1b763f7e44b",
   "outputs": [
    {
     "data": {
      "text/plain": [
       "array([2, 1, 0, 3])"
      ]
     },
     "execution_count": 71,
     "metadata": {},
     "output_type": "execute_result"
    }
   ],
   "execution_count": 71
  },
  {
   "metadata": {
    "ExecuteTime": {
     "end_time": "2024-12-06T16:32:10.544866Z",
     "start_time": "2024-12-06T16:32:10.534370Z"
    }
   },
   "cell_type": "code",
   "source": [
    "calc_label_encoder = preprocessing.LabelEncoder()\n",
    "obesity_dataset['CALC'] = calc_label_encoder.fit_transform(obesity_dataset['CALC'])\n",
    "obesity_dataset['CALC'].unique()"
   ],
   "id": "e57c574a896f5106",
   "outputs": [
    {
     "data": {
      "text/plain": [
       "array([3, 2, 1, 0])"
      ]
     },
     "execution_count": 72,
     "metadata": {},
     "output_type": "execute_result"
    }
   ],
   "execution_count": 72
  },
  {
   "metadata": {
    "ExecuteTime": {
     "end_time": "2024-12-06T16:32:11.967275Z",
     "start_time": "2024-12-06T16:32:11.957048Z"
    }
   },
   "cell_type": "code",
   "source": [
    "mtrans_label_encoder = preprocessing.LabelEncoder()\n",
    "obesity_dataset['MTRANS'] = mtrans_label_encoder.fit_transform(obesity_dataset['MTRANS'])\n",
    "obesity_dataset['MTRANS'].unique()"
   ],
   "id": "79ae4cbc90152724",
   "outputs": [
    {
     "data": {
      "text/plain": [
       "array([3, 4, 0, 2, 1])"
      ]
     },
     "execution_count": 73,
     "metadata": {},
     "output_type": "execute_result"
    }
   ],
   "execution_count": 73
  },
  {
   "metadata": {
    "ExecuteTime": {
     "end_time": "2024-12-06T16:32:14.285456Z",
     "start_time": "2024-12-06T16:32:14.275827Z"
    }
   },
   "cell_type": "code",
   "source": [
    "nobeysdad_label_encoder = preprocessing.LabelEncoder()\n",
    "obesity_dataset['NObeyesdad'] = nobeysdad_label_encoder.fit_transform(obesity_dataset['NObeyesdad'])\n",
    "obesity_dataset['NObeyesdad'].unique()"
   ],
   "id": "b88fa72014dbc4e7",
   "outputs": [
    {
     "data": {
      "text/plain": [
       "array([1, 5, 6, 2, 0, 3, 4])"
      ]
     },
     "execution_count": 74,
     "metadata": {},
     "output_type": "execute_result"
    }
   ],
   "execution_count": 74
  },
  {
   "metadata": {
    "ExecuteTime": {
     "end_time": "2024-12-06T16:32:16.609996Z",
     "start_time": "2024-12-06T16:32:16.581242Z"
    }
   },
   "cell_type": "code",
   "source": "obesity_dataset ",
   "id": "39a8b212517ad87d",
   "outputs": [
    {
     "data": {
      "text/plain": [
       "      Gender        Age  family_history_with_overweight  FAVC  FCVC  NCP  \\\n",
       "0          0  21.000000                               1     0   2.0  3.0   \n",
       "1          0  21.000000                               1     0   3.0  3.0   \n",
       "2          1  23.000000                               1     0   2.0  3.0   \n",
       "3          1  27.000000                               0     0   3.0  3.0   \n",
       "4          1  22.000000                               0     0   2.0  1.0   \n",
       "...      ...        ...                             ...   ...   ...  ...   \n",
       "2106       0  20.976842                               1     1   3.0  3.0   \n",
       "2107       0  21.982942                               1     1   3.0  3.0   \n",
       "2108       0  22.524036                               1     1   3.0  3.0   \n",
       "2109       0  24.361936                               1     1   3.0  3.0   \n",
       "2110       0  23.664709                               1     1   3.0  3.0   \n",
       "\n",
       "      CAEC  SMOKE      CH2O  SCC       FAF       TUE  CALC  MTRANS  NObeyesdad  \n",
       "0        2      0  2.000000    0  0.000000  1.000000     3       3           1  \n",
       "1        2      1  3.000000    1  3.000000  0.000000     2       3           1  \n",
       "2        2      0  2.000000    0  2.000000  1.000000     1       3           1  \n",
       "3        2      0  2.000000    0  2.000000  0.000000     1       4           5  \n",
       "4        2      0  2.000000    0  0.000000  0.000000     2       3           6  \n",
       "...    ...    ...       ...  ...       ...       ...   ...     ...         ...  \n",
       "2106     2      0  1.728139    0  1.676269  0.906247     2       3           4  \n",
       "2107     2      0  2.005130    0  1.341390  0.599270     2       3           4  \n",
       "2108     2      0  2.054193    0  1.414209  0.646288     2       3           4  \n",
       "2109     2      0  2.852339    0  1.139107  0.586035     2       3           4  \n",
       "2110     2      0  2.863513    0  1.026452  0.714137     2       3           4  \n",
       "\n",
       "[2111 rows x 15 columns]"
      ],
      "text/html": [
       "<div>\n",
       "<style scoped>\n",
       "    .dataframe tbody tr th:only-of-type {\n",
       "        vertical-align: middle;\n",
       "    }\n",
       "\n",
       "    .dataframe tbody tr th {\n",
       "        vertical-align: top;\n",
       "    }\n",
       "\n",
       "    .dataframe thead th {\n",
       "        text-align: right;\n",
       "    }\n",
       "</style>\n",
       "<table border=\"1\" class=\"dataframe\">\n",
       "  <thead>\n",
       "    <tr style=\"text-align: right;\">\n",
       "      <th></th>\n",
       "      <th>Gender</th>\n",
       "      <th>Age</th>\n",
       "      <th>family_history_with_overweight</th>\n",
       "      <th>FAVC</th>\n",
       "      <th>FCVC</th>\n",
       "      <th>NCP</th>\n",
       "      <th>CAEC</th>\n",
       "      <th>SMOKE</th>\n",
       "      <th>CH2O</th>\n",
       "      <th>SCC</th>\n",
       "      <th>FAF</th>\n",
       "      <th>TUE</th>\n",
       "      <th>CALC</th>\n",
       "      <th>MTRANS</th>\n",
       "      <th>NObeyesdad</th>\n",
       "    </tr>\n",
       "  </thead>\n",
       "  <tbody>\n",
       "    <tr>\n",
       "      <th>0</th>\n",
       "      <td>0</td>\n",
       "      <td>21.000000</td>\n",
       "      <td>1</td>\n",
       "      <td>0</td>\n",
       "      <td>2.0</td>\n",
       "      <td>3.0</td>\n",
       "      <td>2</td>\n",
       "      <td>0</td>\n",
       "      <td>2.000000</td>\n",
       "      <td>0</td>\n",
       "      <td>0.000000</td>\n",
       "      <td>1.000000</td>\n",
       "      <td>3</td>\n",
       "      <td>3</td>\n",
       "      <td>1</td>\n",
       "    </tr>\n",
       "    <tr>\n",
       "      <th>1</th>\n",
       "      <td>0</td>\n",
       "      <td>21.000000</td>\n",
       "      <td>1</td>\n",
       "      <td>0</td>\n",
       "      <td>3.0</td>\n",
       "      <td>3.0</td>\n",
       "      <td>2</td>\n",
       "      <td>1</td>\n",
       "      <td>3.000000</td>\n",
       "      <td>1</td>\n",
       "      <td>3.000000</td>\n",
       "      <td>0.000000</td>\n",
       "      <td>2</td>\n",
       "      <td>3</td>\n",
       "      <td>1</td>\n",
       "    </tr>\n",
       "    <tr>\n",
       "      <th>2</th>\n",
       "      <td>1</td>\n",
       "      <td>23.000000</td>\n",
       "      <td>1</td>\n",
       "      <td>0</td>\n",
       "      <td>2.0</td>\n",
       "      <td>3.0</td>\n",
       "      <td>2</td>\n",
       "      <td>0</td>\n",
       "      <td>2.000000</td>\n",
       "      <td>0</td>\n",
       "      <td>2.000000</td>\n",
       "      <td>1.000000</td>\n",
       "      <td>1</td>\n",
       "      <td>3</td>\n",
       "      <td>1</td>\n",
       "    </tr>\n",
       "    <tr>\n",
       "      <th>3</th>\n",
       "      <td>1</td>\n",
       "      <td>27.000000</td>\n",
       "      <td>0</td>\n",
       "      <td>0</td>\n",
       "      <td>3.0</td>\n",
       "      <td>3.0</td>\n",
       "      <td>2</td>\n",
       "      <td>0</td>\n",
       "      <td>2.000000</td>\n",
       "      <td>0</td>\n",
       "      <td>2.000000</td>\n",
       "      <td>0.000000</td>\n",
       "      <td>1</td>\n",
       "      <td>4</td>\n",
       "      <td>5</td>\n",
       "    </tr>\n",
       "    <tr>\n",
       "      <th>4</th>\n",
       "      <td>1</td>\n",
       "      <td>22.000000</td>\n",
       "      <td>0</td>\n",
       "      <td>0</td>\n",
       "      <td>2.0</td>\n",
       "      <td>1.0</td>\n",
       "      <td>2</td>\n",
       "      <td>0</td>\n",
       "      <td>2.000000</td>\n",
       "      <td>0</td>\n",
       "      <td>0.000000</td>\n",
       "      <td>0.000000</td>\n",
       "      <td>2</td>\n",
       "      <td>3</td>\n",
       "      <td>6</td>\n",
       "    </tr>\n",
       "    <tr>\n",
       "      <th>...</th>\n",
       "      <td>...</td>\n",
       "      <td>...</td>\n",
       "      <td>...</td>\n",
       "      <td>...</td>\n",
       "      <td>...</td>\n",
       "      <td>...</td>\n",
       "      <td>...</td>\n",
       "      <td>...</td>\n",
       "      <td>...</td>\n",
       "      <td>...</td>\n",
       "      <td>...</td>\n",
       "      <td>...</td>\n",
       "      <td>...</td>\n",
       "      <td>...</td>\n",
       "      <td>...</td>\n",
       "    </tr>\n",
       "    <tr>\n",
       "      <th>2106</th>\n",
       "      <td>0</td>\n",
       "      <td>20.976842</td>\n",
       "      <td>1</td>\n",
       "      <td>1</td>\n",
       "      <td>3.0</td>\n",
       "      <td>3.0</td>\n",
       "      <td>2</td>\n",
       "      <td>0</td>\n",
       "      <td>1.728139</td>\n",
       "      <td>0</td>\n",
       "      <td>1.676269</td>\n",
       "      <td>0.906247</td>\n",
       "      <td>2</td>\n",
       "      <td>3</td>\n",
       "      <td>4</td>\n",
       "    </tr>\n",
       "    <tr>\n",
       "      <th>2107</th>\n",
       "      <td>0</td>\n",
       "      <td>21.982942</td>\n",
       "      <td>1</td>\n",
       "      <td>1</td>\n",
       "      <td>3.0</td>\n",
       "      <td>3.0</td>\n",
       "      <td>2</td>\n",
       "      <td>0</td>\n",
       "      <td>2.005130</td>\n",
       "      <td>0</td>\n",
       "      <td>1.341390</td>\n",
       "      <td>0.599270</td>\n",
       "      <td>2</td>\n",
       "      <td>3</td>\n",
       "      <td>4</td>\n",
       "    </tr>\n",
       "    <tr>\n",
       "      <th>2108</th>\n",
       "      <td>0</td>\n",
       "      <td>22.524036</td>\n",
       "      <td>1</td>\n",
       "      <td>1</td>\n",
       "      <td>3.0</td>\n",
       "      <td>3.0</td>\n",
       "      <td>2</td>\n",
       "      <td>0</td>\n",
       "      <td>2.054193</td>\n",
       "      <td>0</td>\n",
       "      <td>1.414209</td>\n",
       "      <td>0.646288</td>\n",
       "      <td>2</td>\n",
       "      <td>3</td>\n",
       "      <td>4</td>\n",
       "    </tr>\n",
       "    <tr>\n",
       "      <th>2109</th>\n",
       "      <td>0</td>\n",
       "      <td>24.361936</td>\n",
       "      <td>1</td>\n",
       "      <td>1</td>\n",
       "      <td>3.0</td>\n",
       "      <td>3.0</td>\n",
       "      <td>2</td>\n",
       "      <td>0</td>\n",
       "      <td>2.852339</td>\n",
       "      <td>0</td>\n",
       "      <td>1.139107</td>\n",
       "      <td>0.586035</td>\n",
       "      <td>2</td>\n",
       "      <td>3</td>\n",
       "      <td>4</td>\n",
       "    </tr>\n",
       "    <tr>\n",
       "      <th>2110</th>\n",
       "      <td>0</td>\n",
       "      <td>23.664709</td>\n",
       "      <td>1</td>\n",
       "      <td>1</td>\n",
       "      <td>3.0</td>\n",
       "      <td>3.0</td>\n",
       "      <td>2</td>\n",
       "      <td>0</td>\n",
       "      <td>2.863513</td>\n",
       "      <td>0</td>\n",
       "      <td>1.026452</td>\n",
       "      <td>0.714137</td>\n",
       "      <td>2</td>\n",
       "      <td>3</td>\n",
       "      <td>4</td>\n",
       "    </tr>\n",
       "  </tbody>\n",
       "</table>\n",
       "<p>2111 rows × 15 columns</p>\n",
       "</div>"
      ]
     },
     "execution_count": 75,
     "metadata": {},
     "output_type": "execute_result"
    }
   ],
   "execution_count": 75
  },
  {
   "metadata": {
    "ExecuteTime": {
     "end_time": "2024-12-06T16:36:05.734590Z",
     "start_time": "2024-12-06T16:36:05.727025Z"
    }
   },
   "cell_type": "code",
   "source": [
    "age_mean_values = obesity_dataset[\"Age\"].mean()\n",
    "print(f\"Mean value Age: \" + \"\\n\", str(age_mean_values))"
   ],
   "id": "f5c8f0df16f2ecad",
   "outputs": [
    {
     "name": "stdout",
     "output_type": "stream",
     "text": [
      "Mean value Age: \n",
      " 24.312599908574136\n"
     ]
    }
   ],
   "execution_count": 81
  },
  {
   "metadata": {
    "ExecuteTime": {
     "end_time": "2024-12-06T15:49:36.245910Z",
     "start_time": "2024-12-06T15:49:36.107162Z"
    }
   },
   "cell_type": "code",
   "source": [
    "count = obesity_dataset['MTRANS'].value_counts()\n",
    "y_pos = np.arange(len(count))\n",
    "\n",
    "original_labels = mtrans_label_encoder.inverse_transform(count.index)\n",
    "\n",
    "plt.bar(y_pos, count, align='center', alpha=1)\n",
    "plt.xticks(y_pos, original_labels)\n",
    "plt.ylabel('Count')\n",
    "plt.xlabel('Means of Transport')\n",
    "plt.title('Uses of Means of Transport')\n",
    "plt.show()"
   ],
   "id": "3b44caca1ae33c7a",
   "outputs": [
    {
     "data": {
      "text/plain": [
       "<Figure size 640x480 with 1 Axes>"
      ],
      "image/png": "[encoded data removed]"
     },
     "metadata": {},
     "output_type": "display_data"
    }
   ],
   "execution_count": 57
  },
  {
   "metadata": {
    "ExecuteTime": {
     "end_time": "2024-12-06T17:11:04.307149Z",
     "start_time": "2024-12-06T17:11:04.142565Z"
    }
   },
   "cell_type": "code",
   "source": [
    "calc_count = obesity_dataset['CALC'].value_counts()\n",
    "y_pos = np.arange(len(calc_count))\n",
    "\n",
    "calc_original_labels = calc_label_encoder.inverse_transform(calc_count.index)\n",
    "\n",
    "plt.bar(y_pos, calc_count, align='center', alpha=1, color='yellow')\n",
    "plt.xticks(y_pos, calc_original_labels)\n",
    "plt.ylabel('hours')\n",
    "plt.xlabel('Occurrencies')\n",
    "plt.title('Occurrencies of physical activity')\n",
    "plt.show()"
   ],
   "id": "19d997271684171c",
   "outputs": [
    {
     "data": {
      "text/plain": [
       "<Figure size 640x480 with 1 Axes>"
      ],
      "image/png": "[encoded data removed]"
     },
     "metadata": {},
     "output_type": "display_data"
    }
   ],
   "execution_count": 84
  },
  {
   "metadata": {
    "ExecuteTime": {
     "end_time": "2024-12-06T15:49:36.679046Z",
     "start_time": "2024-12-06T15:49:36.295051Z"
    }
   },
   "cell_type": "code",
   "source": [
    "import seaborn as sns\n",
    "correlation = obesity_dataset.corr()\n",
    "sns.heatmap(correlation)\n",
    "plt.show()"
   ],
   "id": "dd0d4af6e96e8cb3",
   "outputs": [
    {
     "data": {
      "text/plain": [
       "<Figure size 640x480 with 2 Axes>"
      ],
      "image/png": "[encoded data removed]"
     },
     "metadata": {},
     "output_type": "display_data"
    }
   ],
   "execution_count": 58
  },
  {
   "metadata": {
    "ExecuteTime": {
     "end_time": "2024-12-06T15:49:36.711418Z",
     "start_time": "2024-12-06T15:49:36.700206Z"
    }
   },
   "cell_type": "code",
   "source": [
    "target_variable = 'NObeyesdad'\n",
    "corr_specific_target = correlation[target_variable].sort_values(ascending=False)\n",
    "print(f'Top Positive correlation with {target_variable}: \\n', corr_specific_target.head(10))\n",
    "print('~~~~~~~~~~~~~~~~~~~~~~')\n",
    "print(f'Top Negative correlation with {target_variable}: \\n', corr_specific_target.tail(10))"
   ],
   "id": "72bafc87786a12e",
   "outputs": [
    {
     "name": "stdout",
     "output_type": "stream",
     "text": [
      "Top Positive correlation with NObeyesdad: \n",
      " NObeyesdad                        1.000000\n",
      "CAEC                              0.327295\n",
      "family_history_with_overweight    0.313667\n",
      "Age                               0.236170\n",
      "CH2O                              0.108868\n",
      "FAVC                              0.044582\n",
      "Gender                            0.024908\n",
      "FCVC                              0.018522\n",
      "SMOKE                            -0.023256\n",
      "MTRANS                           -0.046202\n",
      "Name: NObeyesdad, dtype: float64\n",
      "~~~~~~~~~~~~~~~~~~~~~~\n",
      "Top Negative correlation with NObeyesdad: \n",
      " FAVC      0.044582\n",
      "Gender    0.024908\n",
      "FCVC      0.018522\n",
      "SMOKE    -0.023256\n",
      "MTRANS   -0.046202\n",
      "SCC      -0.050679\n",
      "TUE      -0.069448\n",
      "NCP      -0.092616\n",
      "FAF      -0.129564\n",
      "CALC     -0.134632\n",
      "Name: NObeyesdad, dtype: float64\n"
     ]
    }
   ],
   "execution_count": 59
  },
  {
   "metadata": {
    "ExecuteTime": {
     "end_time": "2024-12-06T15:49:36.780382Z",
     "start_time": "2024-12-06T15:49:36.745499Z"
    }
   },
   "cell_type": "code",
   "source": [
    "from sklearn.linear_model import LogisticRegression\n",
    "from sklearn.model_selection import train_test_split\n",
    "\n",
    "X_training, X_testing, y_training, y_testing = train_test_split(obesity_dataset.keys(), obesity_dataset.target, train_size=0.8)\n",
    "model = LogisticRegression()\n",
    "\n",
    "model.fit(X_training, y_training)\n",
    "pred = model.predict(X_testing)"
   ],
   "id": "920ebc2a90de6079",
   "outputs": [
    {
     "ename": "AttributeError",
     "evalue": "'DataFrame' object has no attribute 'target'",
     "output_type": "error",
     "traceback": [
      "\u001B[1;31m---------------------------------------------------------------------------\u001B[0m",
      "\u001B[1;31mAttributeError\u001B[0m                            Traceback (most recent call last)",
      "\u001B[1;32m~\\AppData\\Local\\Temp\\ipykernel_11300\\806034787.py\u001B[0m in \u001B[0;36m?\u001B[1;34m()\u001B[0m\n\u001B[0;32m      1\u001B[0m \u001B[1;32mfrom\u001B[0m \u001B[0msklearn\u001B[0m\u001B[1;33m.\u001B[0m\u001B[0mlinear_model\u001B[0m \u001B[1;32mimport\u001B[0m \u001B[0mLogisticRegression\u001B[0m\u001B[1;33m\u001B[0m\u001B[1;33m\u001B[0m\u001B[0m\n\u001B[0;32m      2\u001B[0m \u001B[1;32mfrom\u001B[0m \u001B[0msklearn\u001B[0m\u001B[1;33m.\u001B[0m\u001B[0mmodel_selection\u001B[0m \u001B[1;32mimport\u001B[0m \u001B[0mtrain_test_split\u001B[0m\u001B[1;33m\u001B[0m\u001B[1;33m\u001B[0m\u001B[0m\n\u001B[0;32m      3\u001B[0m \u001B[1;33m\u001B[0m\u001B[0m\n\u001B[1;32m----> 4\u001B[1;33m \u001B[0mX_training\u001B[0m\u001B[1;33m,\u001B[0m \u001B[0mX_testing\u001B[0m\u001B[1;33m,\u001B[0m \u001B[0my_training\u001B[0m\u001B[1;33m,\u001B[0m \u001B[0my_testing\u001B[0m \u001B[1;33m=\u001B[0m \u001B[0mtrain_test_split\u001B[0m\u001B[1;33m(\u001B[0m\u001B[0mobesity_dataset\u001B[0m\u001B[1;33m.\u001B[0m\u001B[0mkeys\u001B[0m\u001B[1;33m(\u001B[0m\u001B[1;33m)\u001B[0m\u001B[1;33m,\u001B[0m \u001B[0mobesity_dataset\u001B[0m\u001B[1;33m.\u001B[0m\u001B[0mtarget\u001B[0m\u001B[1;33m,\u001B[0m \u001B[0mtrain_size\u001B[0m\u001B[1;33m=\u001B[0m\u001B[1;36m0.8\u001B[0m\u001B[1;33m)\u001B[0m\u001B[1;33m\u001B[0m\u001B[1;33m\u001B[0m\u001B[0m\n\u001B[0m\u001B[0;32m      5\u001B[0m \u001B[0mmodel\u001B[0m \u001B[1;33m=\u001B[0m \u001B[0mLogisticRegression\u001B[0m\u001B[1;33m(\u001B[0m\u001B[1;33m)\u001B[0m\u001B[1;33m\u001B[0m\u001B[1;33m\u001B[0m\u001B[0m\n\u001B[0;32m      6\u001B[0m \u001B[1;33m\u001B[0m\u001B[0m\n\u001B[0;32m      7\u001B[0m \u001B[0mmodel\u001B[0m\u001B[1;33m.\u001B[0m\u001B[0mfit\u001B[0m\u001B[1;33m(\u001B[0m\u001B[0mX_training\u001B[0m\u001B[1;33m,\u001B[0m \u001B[0my_training\u001B[0m\u001B[1;33m)\u001B[0m\u001B[1;33m\u001B[0m\u001B[1;33m\u001B[0m\u001B[0m\n",
      "\u001B[1;32m~\\AppData\\Local\\Programs\\Python\\Python312\\Lib\\site-packages\\pandas\\core\\generic.py\u001B[0m in \u001B[0;36m?\u001B[1;34m(self, name)\u001B[0m\n\u001B[0;32m   6295\u001B[0m             \u001B[1;32mand\u001B[0m \u001B[0mname\u001B[0m \u001B[1;32mnot\u001B[0m \u001B[1;32min\u001B[0m \u001B[0mself\u001B[0m\u001B[1;33m.\u001B[0m\u001B[0m_accessors\u001B[0m\u001B[1;33m\u001B[0m\u001B[1;33m\u001B[0m\u001B[0m\n\u001B[0;32m   6296\u001B[0m             \u001B[1;32mand\u001B[0m \u001B[0mself\u001B[0m\u001B[1;33m.\u001B[0m\u001B[0m_info_axis\u001B[0m\u001B[1;33m.\u001B[0m\u001B[0m_can_hold_identifiers_and_holds_name\u001B[0m\u001B[1;33m(\u001B[0m\u001B[0mname\u001B[0m\u001B[1;33m)\u001B[0m\u001B[1;33m\u001B[0m\u001B[1;33m\u001B[0m\u001B[0m\n\u001B[0;32m   6297\u001B[0m         \u001B[1;33m)\u001B[0m\u001B[1;33m:\u001B[0m\u001B[1;33m\u001B[0m\u001B[1;33m\u001B[0m\u001B[0m\n\u001B[0;32m   6298\u001B[0m             \u001B[1;32mreturn\u001B[0m \u001B[0mself\u001B[0m\u001B[1;33m[\u001B[0m\u001B[0mname\u001B[0m\u001B[1;33m]\u001B[0m\u001B[1;33m\u001B[0m\u001B[1;33m\u001B[0m\u001B[0m\n\u001B[1;32m-> 6299\u001B[1;33m         \u001B[1;32mreturn\u001B[0m \u001B[0mobject\u001B[0m\u001B[1;33m.\u001B[0m\u001B[0m__getattribute__\u001B[0m\u001B[1;33m(\u001B[0m\u001B[0mself\u001B[0m\u001B[1;33m,\u001B[0m \u001B[0mname\u001B[0m\u001B[1;33m)\u001B[0m\u001B[1;33m\u001B[0m\u001B[1;33m\u001B[0m\u001B[0m\n\u001B[0m",
      "\u001B[1;31mAttributeError\u001B[0m: 'DataFrame' object has no attribute 'target'"
     ]
    }
   ],
   "execution_count": 60
  },
  {
   "metadata": {
    "ExecuteTime": {
     "end_time": "2024-12-06T15:49:36.801477100Z",
     "start_time": "2024-12-06T10:40:25.379747Z"
    }
   },
   "cell_type": "code",
   "source": [
    "for i in range(2,10):\n",
    "    kmeans = KMeans(n_clusters=i)\n",
    "    kmeans.fit(obesity_dataset)\n",
    "    print(silhouette_score(obesity_dataset, kmeans.labels_))\n",
    "    print(\"#########\")"
   ],
   "id": "92c1f116c0e3d3f3",
   "outputs": [
    {
     "name": "stdout",
     "output_type": "stream",
     "text": [
      "0.5649303411095218\n",
      "#########\n",
      "0.3777824552995952\n",
      "#########\n",
      "0.3355752638714293\n",
      "#########\n",
      "0.30836385868265603\n",
      "#########\n",
      "0.3105689330382601\n",
      "#########\n",
      "0.28211846956335623\n",
      "#########\n",
      "0.26814322956408565\n",
      "#########\n",
      "0.2721252277541673\n",
      "#########\n"
     ]
    }
   ],
   "execution_count": 22
  },
  {
   "metadata": {},
   "cell_type": "code",
   "outputs": [],
   "execution_count": null,
   "source": "",
   "id": "cb4bd9176c44dbb3"
  }
 ],
 "metadata": {
  "kernelspec": {
   "display_name": "Python 3",
   "language": "python",
   "name": "python3"
  },
  "language_info": {
   "codemirror_mode": {
    "name": "ipython",
    "version": 2
   },
   "file_extension": ".py",
   "mimetype": "text/x-python",
   "name": "python",
   "nbconvert_exporter": "python",
   "pygments_lexer": "ipython2",
   "version": "2.7.6"
  }
 },
 "nbformat": 4,
 "nbformat_minor": 5
}
